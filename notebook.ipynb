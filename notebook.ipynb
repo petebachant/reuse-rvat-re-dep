{
 "cells": [
  {
   "cell_type": "markdown",
   "metadata": {},
   "source": [
    "# Reusing the UNH-RVAT Reynolds number dependence dataset\n",
    "\n",
    "## Load in some of the experimental data"
   ]
  },
  {
   "cell_type": "code",
   "execution_count": null,
   "metadata": {},
   "outputs": [],
   "source": [
    "import pyrvatrd\n",
    "print(pyrvatrd.__version__)"
   ]
  },
  {
   "cell_type": "code",
   "execution_count": null,
   "metadata": {},
   "outputs": [],
   "source": [
    "pc = pyrvatrd.load_perf_curve(1.0)\n",
    "pc.plotcp()\n",
    "pc.df.head()"
   ]
  },
  {
   "cell_type": "code",
   "execution_count": null,
   "metadata": {},
   "outputs": [],
   "source": [
    "%load_ext calkit.magics"
   ]
  },
  {
   "cell_type": "code",
   "execution_count": null,
   "metadata": {},
   "outputs": [],
   "source": [
    "%%stage \\\n",
    "    --name plot-cp \\\n",
    "    --env reuse-rvat-re-dep \\\n",
    "    --dep-path results/simulation.csv \\\n",
    "    --out-path figures/cp.png \\\n",
    "    --out-type figure \\\n",
    "    --out-title \"Power coefficient\" \\\n",
    "    --out-desc \"Power coefficient versus tip speed ratio.\" \\\n",
    "    --out fig\n",
    "\n",
    "import os\n",
    "import pandas as pd\n",
    "import pyrvatrd\n",
    "import matplotlib.pyplot as plt\n",
    "\n",
    "exp_perf = pyrvatrd.load_perf_curve(tow_speed=1.0)\n",
    "sim_perf = pd.read_csv(\"results/simulation.csv\")\n",
    "fig, ax = plt.subplots()\n",
    "ax.grid(True)\n",
    "exp_perf.plotcp(ax=ax, fig=fig)\n",
    "ax.scatter(sim_perf.tsr, sim_perf.cp, marker=\"^\", color=\"g\", label=\"Simulated\")\n",
    "ax.legend()\n",
    "\n",
    "os.makedirs(\"figures\", exist_ok=True)\n",
    "fig.savefig(\"figures/cp.png\")"
   ]
  }
 ],
 "metadata": {
  "kernelspec": {
   "display_name": "reuse-rvat-re-dep",
   "language": "python",
   "name": "python3"
  },
  "language_info": {
   "codemirror_mode": {
    "name": "ipython",
    "version": 3
   },
   "file_extension": ".py",
   "mimetype": "text/x-python",
   "name": "python",
   "nbconvert_exporter": "python",
   "pygments_lexer": "ipython3",
   "version": "3.12.7"
  }
 },
 "nbformat": 4,
 "nbformat_minor": 2
}
